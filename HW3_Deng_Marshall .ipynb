{
 "cells": [
  {
   "cell_type": "code",
   "execution_count": 1,
   "id": "8226a9bb",
   "metadata": {},
   "outputs": [
    {
     "name": "stdout",
     "output_type": "stream",
     "text": [
      "77\n",
      "student not found\n"
     ]
    }
   ],
   "source": [
    "#Question 1 Q1:\n",
    "marks = {'Andy': 88, 'Amy': 66, 'James': 90, 'Jules': 55, 'Arthur': 77}\n",
    "\n",
    "def student_grade(name):\n",
    "    if name in marks:\n",
    "        print(marks[name])\n",
    "    else:\n",
    "        print('student not found')\n",
    "\n",
    "student_grade('Arthur')\n",
    "student_grade('Marshall')"
   ]
  },
  {
   "cell_type": "code",
   "execution_count": 2,
   "id": "45013cad",
   "metadata": {},
   "outputs": [
    {
     "data": {
      "text/plain": [
       "75.2"
      ]
     },
     "execution_count": 2,
     "metadata": {},
     "output_type": "execute_result"
    }
   ],
   "source": [
    "#Question 1 Q2:\n",
    "marks = {'Andy': 88, 'Amy': 66, 'James': 90, 'Jules': 55, 'Arthur': 77}\n",
    "\n",
    "def mean_grade(score):\n",
    "    return sum(marks.values()) / len(marks)\n",
    "\n",
    "mean_grade(marks.values())"
   ]
  },
  {
   "cell_type": "code",
   "execution_count": 3,
   "id": "f437165f",
   "metadata": {},
   "outputs": [
    {
     "name": "stdout",
     "output_type": "stream",
     "text": [
      "2\n",
      "4\n",
      "8\n",
      "64\n",
      "10 is greater than 8.\n"
     ]
    }
   ],
   "source": [
    "#Question 2:\n",
    "n = 0\n",
    "\n",
    "def less_than(n):\n",
    "    while n<=8:\n",
    "        print(n)\n",
    "        print(n**2)\n",
    "        n+=1\n",
    "        break\n",
    "    else:\n",
    "        print(n, 'is greater than 8.')\n",
    "    \n",
    "less_than(2)\n",
    "less_than(8)\n",
    "less_than(10)"
   ]
  },
  {
   "cell_type": "code",
   "execution_count": 4,
   "id": "244ad7d0",
   "metadata": {},
   "outputs": [
    {
     "name": "stdout",
     "output_type": "stream",
     "text": [
      "6\n"
     ]
    }
   ],
   "source": [
    "#Question 3:\n",
    "def addition(num):\n",
    "    a = 1\n",
    "    sum = 0\n",
    "    while a<=num:\n",
    "        sum = sum + a\n",
    "        a += 1\n",
    "    print(sum) \n",
    "\n",
    "addition(3)"
   ]
  },
  {
   "cell_type": "code",
   "execution_count": 5,
   "id": "904e9326",
   "metadata": {},
   "outputs": [
    {
     "name": "stdout",
     "output_type": "stream",
     "text": [
      "0\n",
      "1\n",
      "3\n",
      "6\n"
     ]
    }
   ],
   "source": [
    "#Question 4:\n",
    "def addprint(num):\n",
    "    n = 1\n",
    "    sum = 0\n",
    "    for n in range(num+1):\n",
    "        sum = sum + n\n",
    "        print (sum)\n",
    "addprint(3)"
   ]
  },
  {
   "cell_type": "code",
   "execution_count": 6,
   "id": "03a945ca",
   "metadata": {},
   "outputs": [
    {
     "name": "stdout",
     "output_type": "stream",
     "text": [
      "50\n",
      "4950\n",
      "28.722813232690143\n"
     ]
    }
   ],
   "source": [
    "#Question 5:\n",
    "def statfunction(list):\n",
    "    import statistics as stats \n",
    "    print(stats.mean(list))\n",
    "    print(sum(list))\n",
    "    print(stats.stdev(list))\n",
    "\n",
    "statfunction(range(1,100))"
   ]
  },
  {
   "cell_type": "code",
   "execution_count": 7,
   "id": "a54ac819",
   "metadata": {},
   "outputs": [
    {
     "data": {
      "text/plain": [
       "1"
      ]
     },
     "execution_count": 7,
     "metadata": {},
     "output_type": "execute_result"
    }
   ],
   "source": [
    "#Question 6 Q1:\n",
    "def minimum(v1,v2,v3,v4):\n",
    "    min_value=v1\n",
    "    if v2<min_value:\n",
    "        min_value=v2\n",
    "    if v3<min_value:\n",
    "        min_value=v3\n",
    "    if v4<min_value:\n",
    "        min_value=v4\n",
    "    return min_value \n",
    "\n",
    "minimum(1,2,3,4)"
   ]
  },
  {
   "cell_type": "code",
   "execution_count": 8,
   "id": "26a39ddc",
   "metadata": {},
   "outputs": [
    {
     "name": "stdout",
     "output_type": "stream",
     "text": [
      "1\n"
     ]
    }
   ],
   "source": [
    "#Question 6 Q2:\n",
    "def print_min(v1,v2,v3,v4):\n",
    "    print(minimum(v1,v2,v3,v4))\n",
    "print_min(1,2,3,4)"
   ]
  }
 ],
 "metadata": {
  "kernelspec": {
   "display_name": "Python 3 (ipykernel)",
   "language": "python",
   "name": "python3"
  },
  "language_info": {
   "codemirror_mode": {
    "name": "ipython",
    "version": 3
   },
   "file_extension": ".py",
   "mimetype": "text/x-python",
   "name": "python",
   "nbconvert_exporter": "python",
   "pygments_lexer": "ipython3",
   "version": "3.9.7"
  }
 },
 "nbformat": 4,
 "nbformat_minor": 5
}

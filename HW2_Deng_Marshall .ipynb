{
 "cells": [
  {
   "cell_type": "code",
   "execution_count": 3,
   "id": "1fdb01b0",
   "metadata": {},
   "outputs": [
    {
     "name": "stdout",
     "output_type": "stream",
     "text": [
      "0\n",
      "1\n",
      "2\n",
      "3\n",
      "4\n"
     ]
    }
   ],
   "source": [
    "#Question 1\n",
    "i = 0\n",
    "while i < 10:\n",
    "    print (i)\n",
    "    i += 1\n",
    "    if i == 5:\n",
    "        break "
   ]
  },
  {
   "cell_type": "code",
   "execution_count": 4,
   "id": "a83c09d9",
   "metadata": {},
   "outputs": [
    {
     "name": "stdout",
     "output_type": "stream",
     "text": [
      "0\n",
      "1\n",
      "2\n",
      "3\n",
      "4\n",
      "5 is not less than 5\n"
     ]
    }
   ],
   "source": [
    "#Question 2\n",
    "i = 0\n",
    "while i < 5: \n",
    "    print (i)\n",
    "    i = i + 1\n",
    "else:\n",
    "    print (i, \"is not less than 5\")"
   ]
  },
  {
   "cell_type": "code",
   "execution_count": 5,
   "id": "a7291184",
   "metadata": {},
   "outputs": [
    {
     "name": "stdout",
     "output_type": "stream",
     "text": [
      "I like banana\n",
      "I like orange\n",
      "apple is really a fruit?\n"
     ]
    }
   ],
   "source": [
    "#Question 3\n",
    "favoritefruits = [\"banana\", \"orange\", \"apple\"]\n",
    "for fruits in favoritefruits:\n",
    "    if fruits == \"apple\":\n",
    "        break \n",
    "    print (\"I like\", fruits)\n",
    "print (fruits, \"is really a fruit?\")"
   ]
  },
  {
   "cell_type": "code",
   "execution_count": 6,
   "id": "7fb53251",
   "metadata": {},
   "outputs": [
    {
     "name": "stdout",
     "output_type": "stream",
     "text": [
      "465\n"
     ]
    }
   ],
   "source": [
    "#Question 4\n",
    "n = 30\n",
    "sum = 0\n",
    "i = 1\n",
    "\n",
    "while i <= 30:\n",
    "    sum = sum + i\n",
    "    i = i + 1 \n",
    "print (sum)"
   ]
  },
  {
   "cell_type": "code",
   "execution_count": 7,
   "id": "bf89f897",
   "metadata": {},
   "outputs": [
    {
     "name": "stdout",
     "output_type": "stream",
     "text": [
      "55 is F\n",
      "67 is D\n",
      "93 is A\n",
      "88 is B\n",
      "79 is C\n",
      "97 is A\n"
     ]
    }
   ],
   "source": [
    "#Question 5\n",
    "gradelist = [55, 67, 93, 88, 79, 97]\n",
    "for grades in gradelist:\n",
    "    if grades >= 90:\n",
    "        print (grades, \"is A\")\n",
    "    elif grades >= 80:\n",
    "        print (grades, \"is B\")\n",
    "    elif grades >= 70:\n",
    "        print (grades, \"is C\")\n",
    "    elif grades >= 60:\n",
    "        print (grades, \"is D\")\n",
    "    else:\n",
    "        print (grades, \"is F\")"
   ]
  },
  {
   "cell_type": "code",
   "execution_count": 8,
   "id": "aa5c198b",
   "metadata": {},
   "outputs": [
    {
     "name": "stdout",
     "output_type": "stream",
     "text": [
      "Andy has a grade of 88\n",
      "Amy has a grade of 66\n",
      "James has a grade of 90\n",
      "Jules has a grade of 55\n",
      "Arthur has a grade of 77\n",
      "The students' mean grade is 75.2\n",
      "The students' max grade is 90\n",
      "The students' min grade is 55\n",
      "Andy\n",
      "Amy\n",
      "Andy\n",
      "Amy\n",
      "Arthur\n"
     ]
    }
   ],
   "source": [
    "#Question 6\n",
    "marks = {\"Andy\": 88, \"Amy\": 66, \"James\": 90, \"Jules\": 55, \"Arthur\": 77}\n",
    "\n",
    "for student, grade in marks.items():\n",
    "    print (student, \"has a grade of\", grade)\n",
    "\n",
    "count = 0\n",
    "_sum = 0\n",
    "for grade in marks:\n",
    "    count += 1 \n",
    "    _sum += marks[grade]\n",
    "print (\"The students' mean grade is\", _sum/count)\n",
    "\n",
    "print (\"The students' max grade is\", max(marks.values()))\n",
    "\n",
    "print (\"The students' min grade is\", min(marks.values()))\n",
    "\n",
    "for student in marks:\n",
    "    if \"J\" in student:\n",
    "        break\n",
    "    print (student)\n",
    "    \n",
    "for student in marks:\n",
    "    if \"J\" in student:\n",
    "        continue \n",
    "    print (student)"
   ]
  },
  {
   "cell_type": "code",
   "execution_count": null,
   "id": "bb736a41",
   "metadata": {},
   "outputs": [],
   "source": []
  }
 ],
 "metadata": {
  "kernelspec": {
   "display_name": "Python 3 (ipykernel)",
   "language": "python",
   "name": "python3"
  },
  "language_info": {
   "codemirror_mode": {
    "name": "ipython",
    "version": 3
   },
   "file_extension": ".py",
   "mimetype": "text/x-python",
   "name": "python",
   "nbconvert_exporter": "python",
   "pygments_lexer": "ipython3",
   "version": "3.9.7"
  }
 },
 "nbformat": 4,
 "nbformat_minor": 5
}
